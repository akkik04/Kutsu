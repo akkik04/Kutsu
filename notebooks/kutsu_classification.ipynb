{
 "cells": [
  {
   "attachments": {},
   "cell_type": "markdown",
   "metadata": {},
   "source": [
    "## INTRODUCING KUTSU 👟:\n",
    "\n",
    "- As a long time sneakerhead, I've always been interested in the different brands of shoes and their respective styles. I truly believe that a good pair of kicks can make or break an outfit!\n",
    "\n",
    "- Pairing this interest with my drive to learn more about machine learning, I decided to create a model that can classify images of shoes into their respective brands.\n",
    "\n",
    "### BRIEF TECHNICAL OVERVIEW 🤓:\n",
    "\n",
    "- The VGG16 model is a CNN that was trained on the ImageNet dataset. The model is able to classify images into 1000 different classes. I plan on using this model to perform transfer learning on my own training set.\n",
    "\n",
    "    - As we know, the early layers of a CNN mainly train on features such as colours, edges, borders, meaning that these characteristics are transferable (hence we use transfer learning from the VGG16 model).\n",
    "    - I want to classify roughly 800+ images of shoes into 3 classes (Nike, Adidas, and Converse)."
   ]
  },
  {
   "cell_type": "code",
   "execution_count": 4,
   "metadata": {},
   "outputs": [],
   "source": [
    "# importing the required modules:\n",
    "\n",
    "# regular data manipulation and plotting modules.\n",
    "import os\n",
    "import time\n",
    "import sys\n",
    "import numpy as np\n",
    "import matplotlib.pyplot as plt\n",
    "import matplotlib.image as mpimg\n",
    "import cv2\n",
    "\n",
    "sys.path.append('../data/train/')\n",
    "sys.path.append('../data/test/')\n",
    "\n",
    "# tensorflow and keras modules.\n",
    "import tensorflow as tf\n",
    "from tensorflow.keras.layers import Dense, Dropout, GlobalAveragePooling2D\n",
    "from tensorflow.keras.applications.vgg16 import VGG16\n",
    "from tensorflow.keras.models import Model\n",
    "from tensorflow.keras.preprocessing.image import ImageDataGenerator, load_img, img_to_array"
   ]
  },
  {
   "cell_type": "code",
   "execution_count": 10,
   "metadata": {},
   "outputs": [],
   "source": [
    "# find the number of classes in the dataset.\n",
    "def get_all_classes(dataset):\n",
    "    \n",
    "    classes = []\n",
    "    for the_class in sorted(os.listdir(dataset)):\n",
    "        classes.append(the_class)\n",
    "\n",
    "    return classes"
   ]
  },
  {
   "cell_type": "code",
   "execution_count": 13,
   "metadata": {},
   "outputs": [
    {
     "name": "stdout",
     "output_type": "stream",
     "text": [
      "\n",
      "Class names in the dataset: ['adidas', 'converse', 'nike']\n"
     ]
    }
   ],
   "source": [
    "# defining the top-level function.\n",
    "if __name__ == '__main__':\n",
    "\n",
    "    # retrieve the class names.\n",
    "    classes = get_all_classes('../data/train/')\n",
    "    print('\\nClass names in the dataset:', classes)"
   ]
  },
  {
   "cell_type": "code",
   "execution_count": null,
   "metadata": {},
   "outputs": [],
   "source": []
  }
 ],
 "metadata": {
  "kernelspec": {
   "display_name": "Python 3",
   "language": "python",
   "name": "python3"
  },
  "language_info": {
   "codemirror_mode": {
    "name": "ipython",
    "version": 3
   },
   "file_extension": ".py",
   "mimetype": "text/x-python",
   "name": "python",
   "nbconvert_exporter": "python",
   "pygments_lexer": "ipython3",
   "version": "3.9.2"
  },
  "orig_nbformat": 4,
  "vscode": {
   "interpreter": {
    "hash": "11938c6bc6919ae2720b4d5011047913343b08a43b18698fd82dedb0d4417594"
   }
  }
 },
 "nbformat": 4,
 "nbformat_minor": 2
}
