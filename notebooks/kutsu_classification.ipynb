{
 "cells": [
  {
   "attachments": {},
   "cell_type": "markdown",
   "metadata": {},
   "source": [
    "## INTRODUCING KUTSU 👟:\n",
    "\n",
    "- As a long time sneakerhead, I've always been interested in the different brands of shoes and their respective styles. I truly believe that a good pair of kicks can make or break an outfit!\n",
    "\n",
    "- Pairing this interest with my drive to learn more about machine learning, I decided to create a model that can classify images of shoes into their respective brands.\n",
    "\n",
    "## BRIEF TECHNICAL OVERVIEW 🤓:\n",
    "\n",
    "- The VGG16 model is a CNN that was trained on the ImageNet dataset. The model is able to classify images into 1000 different classes. I plan on using this model to perform transfer learning on my own training set.\n",
    "\n",
    "    - As we know, the early layers of a CNN mainly train on features such as colours, edges, borders, meaning that these characteristics are transferable (hence we use transfer learning from the VGG16 model).\n",
    "    - I want to classify roughly 800+ images of shoes into 3 classes (Nike, Adidas, and Converse)."
   ]
  },
  {
   "cell_type": "code",
   "execution_count": 50,
   "metadata": {},
   "outputs": [],
   "source": [
    "# importing the required modules:\n",
    "\n",
    "# regular data manipulation and plotting modules.\n",
    "import os\n",
    "import time\n",
    "import sys\n",
    "import numpy as np\n",
    "import matplotlib.pyplot as plt\n",
    "import matplotlib.image as mpimg\n",
    "import cv2\n",
    "\n",
    "sys.path.append('../data/train/')\n",
    "sys.path.append('../data/test/')\n",
    "\n",
    "# tensorflow and keras modules.\n",
    "import tensorflow as tf\n",
    "from tensorflow.keras.layers import Dense, Dropout, GlobalAveragePooling2D\n",
    "from tensorflow.keras.applications.vgg16 import VGG16\n",
    "from tensorflow.keras.models import Model\n",
    "from tensorflow.keras.preprocessing.image import ImageDataGenerator, load_img, img_to_array"
   ]
  },
  {
   "cell_type": "code",
   "execution_count": 51,
   "metadata": {},
   "outputs": [
    {
     "name": "stdout",
     "output_type": "stream",
     "text": [
      " \n",
      "\n",
      "The Classes for our Multiclass-Classification: ['adidas', 'converse', 'nike']\n"
     ]
    }
   ],
   "source": [
    "# find the number of classes in the dataset.\n",
    "def get_all_classes(dataset):\n",
    "    \n",
    "    classes = []\n",
    "    for the_class in sorted(os.listdir(dataset)):\n",
    "        classes.append(the_class)\n",
    "\n",
    "    return classes\n",
    "\n",
    "# retrieve the class names.\n",
    "classes = get_all_classes('../data/train/')\n",
    "print(\" \")\n",
    "print('\\nThe Classes for our Multiclass-Classification:', classes)"
   ]
  },
  {
   "attachments": {},
   "cell_type": "markdown",
   "metadata": {},
   "source": [
    "## LET'S VISUALIZE THE DATA 📊:\n",
    "\n",
    "- I've created a function that will take in a directory of images, and all the classes in our training data, and plot each distribution of images per class.\n",
    "    \n",
    "    - We can see that the distribution of images per class is exactly balanced, so we don't need to augment our data. This is great news, as it means that we can train our model on the data we have, without having to focus too much on overfitting.\n",
    "    \n",
    "        - ``Adidas``: 237 images\n",
    "        - ``Converse``: 237 images\n",
    "        - ``Nike``: 237 images"
   ]
  },
  {
   "cell_type": "code",
   "execution_count": 52,
   "metadata": {},
   "outputs": [
    {
     "name": "stdout",
     "output_type": "stream",
     "text": [
      "\n",
      "Visualizing the training data:\n",
      " \n",
      "The number of pictures in the class 'adidas' is: 237\n",
      "The number of pictures in the class 'converse' is: 237\n",
      "The number of pictures in the class 'nike' is: 237\n"
     ]
    },
    {
     "data": {
      "image/png": "[encoded data removed]",
      "text/plain": [
       "<Figure size 640x480 with 1 Axes>"
      ]
     },
     "metadata": {},
     "output_type": "display_data"
    }
   ],
   "source": [
    "# let's visualize our training data:\n",
    "def visualize_training_data(directory, classes):\n",
    "\n",
    "    print('\\nVisualizing the training data:')\n",
    "    print(\" \")\n",
    "\n",
    "    # creating a dictionary to store the number of images per class.\n",
    "    num_pics_per_class = {}\n",
    "\n",
    "    for the_class in classes:\n",
    "\n",
    "        # get the number of images in each class.\n",
    "        pics_per_class = len(os.listdir(directory + '/' + the_class + '/'))\n",
    "\n",
    "        # add the number of images to the dictionary.\n",
    "        print(f\"The number of pictures in the class '{the_class}' is: {pics_per_class}\")\n",
    "        num_pics_per_class[the_class] = pics_per_class\n",
    "\n",
    "    # plot the number of images per class.\n",
    "    plt.title('Class Distribution')\n",
    "    plt.ylabel('Number of Images')\n",
    "    plt.xlabel('Class')\n",
    "    plt.xticks(range(len(num_pics_per_class)), list(num_pics_per_class.keys()))\n",
    "    plt.ylim(0, 250)\n",
    "    plt.bar(range(len(num_pics_per_class)), list(num_pics_per_class.values()), align='center', color='red', edgecolor='black')\n",
    "    plt.show()\n",
    "\n",
    "     # for c in classes:\n",
    "    #     path = os.path.join(directory, c)\n",
    "    #     for img in os.listdir(path):\n",
    "    #         img_array = cv2.imread(os.path.join(path,img))\n",
    "    #         plt.imshow(img_array)\n",
    "    #         plt.title(c)\n",
    "    #         plt.show()\n",
    "    #         break\n",
    "\n",
    "# call the function to visualize the training data.\n",
    "visualize_training_data('../data/train/', classes)\n"
   ]
  },
  {
   "attachments": {},
   "cell_type": "markdown",
   "metadata": {},
   "source": [
    "## UTILIZING THE VGG16 MODEL 🤖:\n",
    "\n",
    "- **SUMMARY OF THE ``utilize_vgg16()`` FUNCTION:**\n",
    "    - **1.** Load the VGG16 model: The VGG16 model is loaded using the ``VGG16()`` function, with the ``input_shape`` argument set to (224, 224, 3) indicating the input image size of 224 x 224 pixels with 3 color channels (RGB). The ``include_top argument`` is set to False to indicate that the last fully connected layer of the VGG16 model should be excluded. The ``weights`` argument is set to 'imagenet' to indicate that the model should be initialized with pre-trained weights on the ImageNet dataset.\n",
    "\n",
    "    - **2.** Freeze existing layers: The existing layers of the VGG16 model are then frozen using a for loop. This is done so that the existing layers are not modified during the training of the new custom model. Setting the trainable attribute of each layer to False makes sure that their parameters are not updated during backpropagation.\n",
    "\n",
    "    - **3.** Define the output layer: The output layer is defined using the ``Dense()`` function, with units set to the number of classes in the training data. The number of classes is obtained using the get_all_classes() function. The activation argument is set to ``'softmax'``, which is commonly used for multiclass classification problems. The output layer is connected to the output of the VGG16 model.\n",
    "\n",
    "    - **4.** Define the model: The final step is to define the model using the Model class from the Keras API. The ``inputs`` argument is set to vgg.input, which are the inputs of the VGG16 model. The ``outputs`` argument is set to the output layer defined in the previous step. The ``name`` argument is set to 'VGG16_Kutsu', which is the name of the custom model. The ``model.summary()`` function is then used to display a summary of the model's architecture.\n",
    "\n",
    "    - **5.** Return the model: The final line returns the defined model, which can then be used for training, evaluation, and inference.\n",
    "\n",
    "- Looking for more info on the VGG16 model? Check out this [link](https://machinelearningmastery.com/use-pre-trained-vgg-model-classify-objects-photographs/)! 📚\n",
    "\n"
   ]
  },
  {
   "cell_type": "code",
   "execution_count": 53,
   "metadata": {},
   "outputs": [
    {
     "name": "stdout",
     "output_type": "stream",
     "text": [
      "Model: \"VGG16_Kutsu\"\n",
      "_________________________________________________________________\n",
      " Layer (type)                Output Shape              Param #   \n",
      "=================================================================\n",
      " input_28 (InputLayer)       [(None, 224, 224, 3)]     0         \n",
      "                                                                 \n",
      " block1_conv1 (Conv2D)       (None, 224, 224, 64)      1792      \n",
      "                                                                 \n",
      " block1_conv2 (Conv2D)       (None, 224, 224, 64)      36928     \n",
      "                                                                 \n",
      " block1_pool (MaxPooling2D)  (None, 112, 112, 64)      0         \n",
      "                                                                 \n",
      " block2_conv1 (Conv2D)       (None, 112, 112, 128)     73856     \n",
      "                                                                 \n",
      " block2_conv2 (Conv2D)       (None, 112, 112, 128)     147584    \n",
      "                                                                 \n",
      " block2_pool (MaxPooling2D)  (None, 56, 56, 128)       0         \n",
      "                                                                 \n",
      " block3_conv1 (Conv2D)       (None, 56, 56, 256)       295168    \n",
      "                                                                 \n",
      " block3_conv2 (Conv2D)       (None, 56, 56, 256)       590080    \n",
      "                                                                 \n",
      " block3_conv3 (Conv2D)       (None, 56, 56, 256)       590080    \n",
      "                                                                 \n",
      " block3_pool (MaxPooling2D)  (None, 28, 28, 256)       0         \n",
      "                                                                 \n",
      " block4_conv1 (Conv2D)       (None, 28, 28, 512)       1180160   \n",
      "                                                                 \n",
      " block4_conv2 (Conv2D)       (None, 28, 28, 512)       2359808   \n",
      "                                                                 \n",
      " block4_conv3 (Conv2D)       (None, 28, 28, 512)       2359808   \n",
      "                                                                 \n",
      " block4_pool (MaxPooling2D)  (None, 14, 14, 512)       0         \n",
      "                                                                 \n",
      " block5_conv1 (Conv2D)       (None, 14, 14, 512)       2359808   \n",
      "                                                                 \n",
      " block5_conv2 (Conv2D)       (None, 14, 14, 512)       2359808   \n",
      "                                                                 \n",
      " block5_conv3 (Conv2D)       (None, 14, 14, 512)       2359808   \n",
      "                                                                 \n",
      " block5_pool (MaxPooling2D)  (None, 7, 7, 512)         0         \n",
      "                                                                 \n",
      " dense_22 (Dense)            (None, 7, 7, 3)           1539      \n",
      "                                                                 \n",
      "=================================================================\n",
      "Total params: 14,716,227\n",
      "Trainable params: 1,539\n",
      "Non-trainable params: 14,714,688\n",
      "_________________________________________________________________\n"
     ]
    },
    {
     "data": {
      "text/plain": [
       "<keras.engine.functional.Functional at 0x1598ac0dfa0>"
      ]
     },
     "execution_count": 53,
     "metadata": {},
     "output_type": "execute_result"
    }
   ],
   "source": [
    "# let's work with the VGG16 model.\n",
    "def utilize_vgg16():\n",
    "\n",
    "    # load the VGG16 model (we will not include the top layer).\n",
    "    vgg = VGG16(weights='imagenet', include_top=False, input_shape=(224, 224, 3))\n",
    "\n",
    "    # freeze the layers of the pre-existing VGG16 model, as we will not be training them.\n",
    "    for layer in vgg.layers:\n",
    "        layer.trainable = False\n",
    "    \n",
    "    # define our own # of neurons in the output layer, with a softmax activation function for multiclass classification.\n",
    "    output_layer = Dense(units=len(get_all_classes('../data/train/')), activation='softmax')(vgg.output)\n",
    "\n",
    "    # define the model.\n",
    "    model = Model(inputs=vgg.input, outputs=output_layer, name='VGG16_Kutsu')\n",
    "    model.summary()\n",
    "    \n",
    "    return model\n",
    "\n",
    "# call the function to utilize the VGG16 model.\n",
    "utilize_vgg16()\n"
   ]
  }
 ],
 "metadata": {
  "kernelspec": {
   "display_name": "Python 3",
   "language": "python",
   "name": "python3"
  },
  "language_info": {
   "codemirror_mode": {
    "name": "ipython",
    "version": 3
   },
   "file_extension": ".py",
   "mimetype": "text/x-python",
   "name": "python",
   "nbconvert_exporter": "python",
   "pygments_lexer": "ipython3",
   "version": "3.9.2"
  },
  "orig_nbformat": 4,
  "vscode": {
   "interpreter": {
    "hash": "11938c6bc6919ae2720b4d5011047913343b08a43b18698fd82dedb0d4417594"
   }
  }
 },
 "nbformat": 4,
 "nbformat_minor": 2
}
